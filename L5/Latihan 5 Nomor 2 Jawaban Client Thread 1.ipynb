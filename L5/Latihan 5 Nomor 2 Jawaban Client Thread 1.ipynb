{
 "cells": [
  {
   "cell_type": "code",
   "execution_count": 1,
   "metadata": {},
   "outputs": [
    {
     "name": "stdout",
     "output_type": "stream",
     "text": [
      "Masukkan 'quit' untuk keluar\n",
      " -> Hai, ini dengan client 1\n",
      " -> Client 1 ingin mengirim pesan\n",
      " -> Sampai jumpa\n",
      " -> quit\n"
     ]
    }
   ],
   "source": [
    "#Import socket dan sys\n",
    "import socket, sys\n",
    "\n",
    "#Fungsi utama\n",
    "def main():\n",
    "    #Membuat socket bertipe TCP\n",
    "    soc = socket.socket(socket.AF_INET, socket.SOCK_STREAM)\n",
    "    \n",
    "    #Menentukan IP server target\n",
    "    ip = 'localhost'\n",
    "    \n",
    "    #Menentukan por server\n",
    "    port = 33000\n",
    "\n",
    "    #Melakukan koneksi ke server\n",
    "    try:\n",
    "        soc.connect((ip, port))\n",
    "    except:\n",
    "        #Print error\n",
    "        print(\"Koneksi error\")\n",
    "        #Exit\n",
    "        sys.exit()\n",
    "    \n",
    "    #Menampilkan menu, enter quit to exit\n",
    "    print(\"Masukkan 'quit' untuk keluar\")\n",
    "    message = input(\" -> \")\n",
    "\n",
    "    #Selama pesan bukan \"quit\", lakukan loop forever\n",
    "    while message != 'quit':\n",
    "        #Mengirimkan pesan yang ditulis ke server\n",
    "        soc.sendall(message.encode('utf8'))\n",
    "        \n",
    "        #Menu (user interface)\n",
    "        message = input(\" -> \")\n",
    "\n",
    "    #Send \"quit\" ke server\n",
    "    soc.send(b'--quit--')\n",
    "\n",
    "#Memanggil fungsi utama\n",
    "if __name__ == \"__main__\":\n",
    "    main()"
   ]
  },
  {
   "cell_type": "code",
   "execution_count": null,
   "metadata": {},
   "outputs": [],
   "source": []
  }
 ],
 "metadata": {
  "kernelspec": {
   "display_name": "Python 3",
   "language": "python",
   "name": "python3"
  },
  "language_info": {
   "codemirror_mode": {
    "name": "ipython",
    "version": 3
   },
   "file_extension": ".py",
   "mimetype": "text/x-python",
   "name": "python",
   "nbconvert_exporter": "python",
   "pygments_lexer": "ipython3",
   "version": "3.7.6"
  }
 },
 "nbformat": 4,
 "nbformat_minor": 4
}
